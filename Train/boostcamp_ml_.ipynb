{
  "cells": [
    {
      "cell_type": "markdown",
      "metadata": {
        "colab_type": "text",
        "id": "view-in-github"
      },
      "source": [
        "<a href=\"https://colab.research.google.com/github/gigcot/gigcot/blob/main/boostcamp_ml_.ipynb\" target=\"_parent\"><img src=\"https://colab.research.google.com/assets/colab-badge.svg\" alt=\"Open In Colab\"/></a>"
      ]
    },
    {
      "cell_type": "code",
      "execution_count": null,
      "metadata": {
        "id": "2hmYSURJk6Fr"
      },
      "outputs": [
        {
          "ename": "",
          "evalue": "",
          "output_type": "error",
          "traceback": [
            "\u001b[1;31mFailed to start the Kernel. \n",
            "\u001b[1;31mBad file descriptor (D:\\bld\\zeromq_1629967000004\\work\\src\\epoll.cpp:100). \n",
            "\u001b[1;31mView Jupyter <a href='command:jupyter.viewOutput'>log</a> for further details."
          ]
        }
      ],
      "source": [
        "#https://youtu.be/CzdWqFTmn0Y"
      ]
    },
    {
      "cell_type": "code",
      "execution_count": null,
      "metadata": {
        "colab": {
          "base_uri": "https://localhost:8080/"
        },
        "id": "RoZay9umE8z1",
        "outputId": "c03fa1e5-a822-4017-9bd0-c2bbbf0eec39"
      },
      "outputs": [],
      "source": [
        "! pip install fastai==0.7.0\n"
      ]
    },
    {
      "cell_type": "markdown",
      "metadata": {
        "id": "ipe0A54jSLpt"
      },
      "source": [
        "# 좋은기능인듯? 초기화"
      ]
    },
    {
      "cell_type": "code",
      "execution_count": null,
      "metadata": {
        "colab": {
          "base_uri": "https://localhost:8080/"
        },
        "id": "52ftI4kAjXRM",
        "outputId": "f6a70c3d-8db1-44b1-c69d-eb9ed5e65fbe"
      },
      "outputs": [],
      "source": [
        "! pip install pandas_summary\n"
      ]
    },
    {
      "cell_type": "code",
      "execution_count": null,
      "metadata": {
        "id": "_P1E_nVZFRRQ"
      },
      "outputs": [],
      "source": [
        "%load_ext autoreload\n",
        "%autoreload 2\n",
        "\n",
        "%matplotlib inline\n",
        "! pip show fastai"
      ]
    },
    {
      "cell_type": "code",
      "execution_count": null,
      "metadata": {
        "id": "tAJLd8jCX35x"
      },
      "outputs": [],
      "source": [
        "from fastai.imports import *\n",
        "from fastai.structured import *\n",
        "\n",
        "from pandas_summary import DataFrameSummary\n",
        "! pip install scikit-learn\n",
        "from sklearn.ensemble import RandomForestRegressor, RandomForestClassifier\n",
        "from IPython.display import display\n",
        "from sklearn import metrics"
      ]
    },
    {
      "cell_type": "code",
      "execution_count": null,
      "metadata": {
        "colab": {
          "base_uri": "https://localhost:8080/"
        },
        "id": "6Hj-uvOVSJS-",
        "outputId": "e0445c6a-0082-497a-dc4e-d01a66c828f1"
      },
      "outputs": [],
      "source": [
        "import os\n",
        "\n",
        "current_dir = os.getcwd()\n",
        "file_path = os.path.join(current_dir,'..', 'data', 'Train.csv')\n",
        "print(file_path)\n",
        "import pandas as pd\n",
        "df_raw = pd.read_csv(file_path)\n"
      ]
    },
    {
      "cell_type": "code",
      "execution_count": null,
      "metadata": {
        "id": "aNi8wa2LkE11"
      },
      "outputs": [],
      "source": [
        "def display_all(df):\n",
        "  with pd.option_context(\"display.max_rows\",1000):\n",
        "    with pd.option_context(\"display.max_columns\",1000):\n",
        "      display(df)\n"
      ]
    },
    {
      "cell_type": "code",
      "execution_count": null,
      "metadata": {
        "colab": {
          "base_uri": "https://localhost:8080/",
          "height": 1000
        },
        "id": "sM4DhhFtlqc_",
        "outputId": "56430f31-4d3b-49ef-e59e-28956f1d883c"
      },
      "outputs": [],
      "source": [
        "display_all(df_raw.tail().transpose())"
      ]
    },
    {
      "cell_type": "code",
      "execution_count": null,
      "metadata": {
        "id": "4nNeH0tcmR9X"
      },
      "outputs": [],
      "source": [
        "df_raw.SalePrice = np.log(df_raw.SalePrice)"
      ]
    },
    {
      "cell_type": "code",
      "execution_count": null,
      "metadata": {
        "colab": {
          "base_uri": "https://localhost:8080/"
        },
        "id": "KKn-nkyvn7AQ",
        "outputId": "6051e540-8984-4fdd-d01e-4687bb105aad"
      },
      "outputs": [],
      "source": [
        "df_raw.SalePrice"
      ]
    },
    {
      "cell_type": "code",
      "execution_count": null,
      "metadata": {
        "id": "lolOicX0n86F"
      },
      "outputs": [],
      "source": [
        "#randomforest 분류와 회귀 둘다 가능"
      ]
    },
    {
      "cell_type": "code",
      "execution_count": null,
      "metadata": {
        "colab": {
          "base_uri": "https://localhost:8080/",
          "height": 318
        },
        "id": "hUVGa5MGoPHe",
        "outputId": "f7ff787e-fa8b-4c6e-b393-dec7cc011087"
      },
      "outputs": [],
      "source": [
        "m = RandomForestRegressor(n_jobs=-1)\n",
        "m.fit(df_raw.drop('SalePrice', axis=1),df_raw.SalePrice)"
      ]
    },
    {
      "cell_type": "code",
      "execution_count": null,
      "metadata": {
        "id": "EFi2Jd6Ys6h_"
      },
      "outputs": [],
      "source": [
        "fld=df_raw.saledate"
      ]
    },
    {
      "cell_type": "code",
      "execution_count": null,
      "metadata": {
        "colab": {
          "base_uri": "https://localhost:8080/"
        },
        "id": "CGTDTDM1xkck",
        "outputId": "1f3d8697-1cbc-4a80-a597-729b2892be79"
      },
      "outputs": [],
      "source": [
        "fld"
      ]
    },
    {
      "cell_type": "code",
      "execution_count": null,
      "metadata": {
        "colab": {
          "base_uri": "https://localhost:8080/",
          "height": 369
        },
        "id": "ML7e0qkexnI4",
        "outputId": "dfa59bae-5733-4f2b-e7ce-3dbb79c79f90"
      },
      "outputs": [],
      "source": [
        "add_datepart(df_raw, 'saledate')\n",
        "df_raw.saleYear.head()"
      ]
    },
    {
      "cell_type": "code",
      "execution_count": null,
      "metadata": {
        "colab": {
          "base_uri": "https://localhost:8080/"
        },
        "id": "pDD27LoBzK_N",
        "outputId": "18f5c4a3-fe47-4d48-9ab2-a200054111cb"
      },
      "outputs": [],
      "source": [
        "df_raw.columns"
      ]
    },
    {
      "cell_type": "code",
      "execution_count": null,
      "metadata": {
        "colab": {
          "base_uri": "https://localhost:8080/"
        },
        "id": "RDVkutDtzadQ",
        "outputId": "2a8254bf-7b66-4c96-b935-0edb4e6f739e"
      },
      "outputs": [],
      "source": [
        "?train_cats()"
      ]
    },
    {
      "cell_type": "code",
      "execution_count": null,
      "metadata": {
        "id": "2QkliZY_0WPI"
      },
      "outputs": [],
      "source": []
    }
  ],
  "metadata": {
    "colab": {
      "authorship_tag": "ABX9TyPuaLf3s+Qv+A+418jnPsab",
      "include_colab_link": true,
      "provenance": []
    },
    "kernelspec": {
      "display_name": "Python 3",
      "name": "python3"
    },
    "language_info": {
      "codemirror_mode": {
        "name": "ipython",
        "version": 3
      },
      "file_extension": ".py",
      "mimetype": "text/x-python",
      "name": "python",
      "nbconvert_exporter": "python",
      "pygments_lexer": "ipython3",
      "version": "3.7.16"
    }
  },
  "nbformat": 4,
  "nbformat_minor": 0
}
